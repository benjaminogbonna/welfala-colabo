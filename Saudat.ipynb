{
 "cells": [
  {
   "cell_type": "markdown",
   "id": "12d97d6b-e633-4275-b37c-768e6f0470f0",
   "metadata": {},
   "source": [
    "# Question 1"
   ]
  },
  {
   "cell_type": "markdown",
   "id": "1e3abdca-c9ec-432b-8496-28e8efe912a3",
   "metadata": {},
   "source": [
    "## Rock, Paper, Scissors Game\n",
    "\n",
    "##  Write a program that lets a user play Rock, Paper, Scissors against the computer for 1 round (no while loop, use just conditional and random). Rock  Paper Scissors is a simple hand game where two players simultaneously choose one of three shapes: rock, paper, or scissors. The goal is to win by choosing a shape that beats your opponent's. Rock beats scissors, scissors beats paper, and paper beats rock. "
   ]
  },
  {
   "cell_type": "code",
   "execution_count": 3,
   "id": "482aef2c-97be-4c6f-8666-2ff6768ccc4f",
   "metadata": {},
   "outputs": [
    {
     "name": "stdout",
     "output_type": "stream",
     "text": [
      "Welcome to Rock Paper Scissors Simple Hand Game\n"
     ]
    },
    {
     "name": "stdin",
     "output_type": "stream",
     "text": [
      "Choose rock, paper, or scissors:  rock\n"
     ]
    },
    {
     "name": "stdout",
     "output_type": "stream",
     "text": [
      "Computer chose: rock\n",
      "It's a tie!\n"
     ]
    }
   ],
   "source": [
    "# Rock Paper Scissors Simple Hand Game\n",
    "\n",
    "import random\n",
    "\n",
    "print(\"Welcome to Rock Paper Scissors Simple Hand Game\")\n",
    "\n",
    "choices = [\"rock\", \"paper\", \"scissors\"]\n",
    "user_choice = input(\"Choose rock, paper, or scissors: \").lower()\n",
    "computer_choice = random.choice(choices)\n",
    "print(f\"Computer chose: {computer_choice}\")\n",
    "\n",
    "if user_choice == computer_choice:\n",
    "    print(\"It's a tie!\")\n",
    "elif (user_choice == \"rock\" and computer_choice == \"scissors\") or \\\n",
    "     (user_choice == \"scissors\" and computer_choice == \"paper\") or \\\n",
    "     (user_choice == \"paper\" and computer_choice == \"rock\"):\n",
    "    print(\"You win!\")\n",
    "else:\n",
    "    print(\"Computer wins!\")"
   ]
  },
  {
   "cell_type": "markdown",
   "id": "27a2a5f4-fa8f-4b68-a440-4d1f90eef23e",
   "metadata": {},
   "source": [
    "# Question 2"
   ]
  },
  {
   "cell_type": "markdown",
   "id": "c4ece2c6-9b67-4eab-b0f0-d14dc138a9ba",
   "metadata": {},
   "source": [
    "## Emoji Translator\n",
    "\n",
    "## Write a program to replace certain words in a sentence with emojis. If the word is \"happy\", replace it with \"😊\" This is slightly similar to the word censor program with did last week."
   ]
  },
  {
   "cell_type": "code",
   "execution_count": 24,
   "id": "c6560cc6-009c-4acb-9df7-59753ce9a915",
   "metadata": {},
   "outputs": [
    {
     "name": "stdin",
     "output_type": "stream",
     "text": [
      "Type a sentence:  I am very happy today and I hope you are happy too.\n"
     ]
    },
    {
     "name": "stdout",
     "output_type": "stream",
     "text": [
      "Emoji_sentence: I am very 😊 today and I hope you are 😊 too.\n"
     ]
    }
   ],
   "source": [
    "# Input sentence\n",
    "\n",
    "sentence = input(\"Type a sentence: \")\n",
    "\n",
    "# Replacing the word with emoji\n",
    "emoji_sentence = sentence.replace(\"happy\", \"😊\")\n",
    "\n",
    "print(\"Emoji_sentence:\", emoji_sentence)"
   ]
  },
  {
   "cell_type": "markdown",
   "id": "a38f2165-b777-4f5c-9db9-5857e99773c8",
   "metadata": {},
   "source": [
    "# Question 3"
   ]
  },
  {
   "cell_type": "markdown",
   "id": "56d59553-ec77-4a79-9aab-fc37a9e9475e",
   "metadata": {},
   "source": [
    "## FizzBuzz (1 to 50)\n",
    "\n",
    "## Write a program to print numbers 1 to 50. For multiples of 3, print \"Fizz\"; for multiples of 5, print \"Buzz\"; for both, print \"FizzBuzz\". Example:  3 should be replaced with Buzz, and 15 should be replaced with FizzBuzz"
   ]
  },
  {
   "cell_type": "code",
   "execution_count": 4,
   "id": "6b795db9-31ff-4e0c-b96e-0984db121b3b",
   "metadata": {},
   "outputs": [
    {
     "name": "stdin",
     "output_type": "stream",
     "text": [
      "Enter a number: 50\n"
     ]
    },
    {
     "name": "stdout",
     "output_type": "stream",
     "text": [
      "1\n",
      "2\n",
      "Fizz\n",
      "4\n",
      "Buzz\n",
      "Fizz\n",
      "7\n",
      "8\n",
      "Fizz\n",
      "Buzz\n",
      "11\n",
      "Fizz\n",
      "13\n",
      "14\n",
      "FizzBuzz\n",
      "16\n",
      "17\n",
      "Fizz\n",
      "19\n",
      "Buzz\n",
      "Fizz\n",
      "22\n",
      "23\n",
      "Fizz\n",
      "Buzz\n",
      "26\n",
      "Fizz\n",
      "28\n",
      "29\n",
      "FizzBuzz\n",
      "31\n",
      "32\n",
      "Fizz\n",
      "34\n",
      "Buzz\n",
      "Fizz\n",
      "37\n",
      "38\n",
      "Fizz\n",
      "Buzz\n",
      "41\n",
      "Fizz\n",
      "43\n",
      "44\n",
      "FizzBuzz\n",
      "46\n",
      "47\n",
      "Fizz\n",
      "49\n",
      "Buzz\n"
     ]
    }
   ],
   "source": [
    "# FizzBuzz from 1 to 50\n",
    "n = int(input(\"Enter a number:\"))\n",
    "\n",
    "for i in range (1, 51):\n",
    "    if i % 3 == 0 and i % 5 == 0:\n",
    "        print(\"FizzBuzz\")\n",
    "    elif i % 3 == 0:\n",
    "        print(\"Fizz\")\n",
    "    elif i % 5 == 0:\n",
    "        print(\"Buzz\")\n",
    "    else:\n",
    "        print(i)"
   ]
  },
  {
   "cell_type": "markdown",
   "id": "d306ef84-5f98-48ad-9c4a-12ef2de49e02",
   "metadata": {},
   "source": [
    "# Question 4"
   ]
  },
  {
   "cell_type": "markdown",
   "id": "efaa46da-ae97-4b99-bd66-6072bbd24291",
   "metadata": {},
   "source": [
    "## Reverse a String (without slicing)\n",
    "\n",
    "## Write a program that asks the user to enter a word, then print the word in reverse using a loop"
   ]
  },
  {
   "cell_type": "code",
   "execution_count": 17,
   "id": "8f0d5b9f-0d74-4f9b-9926-4445219bfc7a",
   "metadata": {},
   "outputs": [
    {
     "name": "stdin",
     "output_type": "stream",
     "text": [
      "Enter a word: encyclopedia\n"
     ]
    },
    {
     "name": "stdout",
     "output_type": "stream",
     "text": [
      "reversed_word: aidepolcycne\n"
     ]
    }
   ],
   "source": [
    "# Reverse a String (without slicing)\n",
    "\n",
    "word = input(\"Enter a word:\")\n",
    "reversed_word = \"\"\n",
    "\n",
    "# Using for loop\n",
    "for char in word:\n",
    "    reversed_word = char + reversed_word\n",
    "print(\"reversed_word:\", reversed_word)"
   ]
  }
 ],
 "metadata": {
  "kernelspec": {
   "display_name": "Python 3 (ipykernel)",
   "language": "python",
   "name": "python3"
  },
  "language_info": {
   "codemirror_mode": {
    "name": "ipython",
    "version": 3
   },
   "file_extension": ".py",
   "mimetype": "text/x-python",
   "name": "python",
   "nbconvert_exporter": "python",
   "pygments_lexer": "ipython3",
   "version": "3.12.7"
  }
 },
 "nbformat": 4,
 "nbformat_minor": 5
}
