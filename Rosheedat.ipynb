{
 "cells": [
  {
   "cell_type": "markdown",
   "id": "c464c374-6d32-44dc-a8cf-d88f8c115ef8",
   "metadata": {},
   "source": [
    "Question 1\n",
    "\n",
    "Write a program that prompts a user for their name, generates a random number between 1 and 30 and asks the user to guess it. The program should keep prompting the user until they guess correctly, giving hints if the guess is too high or too low. If they guess right, it should congratulate them with their name\n"
   ]
  },
  {
   "cell_type": "code",
   "execution_count": 30,
   "id": "28f1ede2-922e-4b72-ae5c-77327f465ece",
   "metadata": {},
   "outputs": [
    {
     "name": "stdout",
     "output_type": "stream",
     "text": [
      "14\n"
     ]
    },
    {
     "name": "stdin",
     "output_type": "stream",
     "text": [
      "guess a number 3\n"
     ]
    },
    {
     "name": "stdout",
     "output_type": "stream",
     "text": [
      "the number is greater than that, guess again\n"
     ]
    },
    {
     "name": "stdin",
     "output_type": "stream",
     "text": [
      "guess a number 67\n"
     ]
    },
    {
     "name": "stdout",
     "output_type": "stream",
     "text": [
      "the number is lower than that, guess again\n"
     ]
    },
    {
     "name": "stdin",
     "output_type": "stream",
     "text": [
      "guess a number 14\n"
     ]
    },
    {
     "name": "stdout",
     "output_type": "stream",
     "text": [
      "Congratulations, you are on spot!\n"
     ]
    }
   ],
   "source": [
    "import random\n",
    "randnum = random.randint(1, 30)\n",
    "print(randnum)\n",
    "right_answer = False\n",
    "\n",
    "while right_answer == False:\n",
    "    guess = int(input('guess a number'))\n",
    "    if guess == randnum:        \n",
    "        print('Congratulations, you are on spot!')\n",
    "        right_answer = True\n",
    "\n",
    "    elif guess < randnum:\n",
    "        print('the number is greater than that, guess again')\n",
    "        \n",
    "    else:\n",
    "        print('the number is lower than that, guess again')\n"
   ]
  },
  {
   "cell_type": "markdown",
   "id": "9f15af6e-965d-458a-9941-5715cc59058d",
   "metadata": {},
   "source": [
    "Masking a Credit Card Number | 15 points\n",
    "Write a program that takes a credit card number as input, checks the length (16) to know if it's a valid card or not, and then hides all but the last four digits..\n",
    "Example: \"1234567812345678\" → \"****5678\"\n"
   ]
  },
  {
   "cell_type": "code",
   "execution_count": 4,
   "id": "47116c28-f534-49c3-98e2-bb429524c910",
   "metadata": {},
   "outputs": [
    {
     "name": "stdin",
     "output_type": "stream",
     "text": [
      "enter your 16 card number 677\n"
     ]
    },
    {
     "name": "stdout",
     "output_type": "stream",
     "text": [
      "Card number must be 16!, try again\n"
     ]
    },
    {
     "name": "stdin",
     "output_type": "stream",
     "text": [
      "enter your 16 card number 6098765456789098\n"
     ]
    },
    {
     "name": "stdout",
     "output_type": "stream",
     "text": [
      "6098765456789098\n",
      "************9098\n"
     ]
    }
   ],
   "source": [
    "is_16 = False\n",
    "\n",
    "while is_16 == False:\n",
    "    customer = (input('enter your 16 card number'))\n",
    "    if len (customer) != 16:\n",
    "        print('Card number must be 16!, try again')\n",
    "    elif len(customer) == 16:  \n",
    "        print(customer)\n",
    "        sliced_no = customer[-4:]\n",
    "        masked_no = '************' + sliced_no\n",
    "        print(masked_no)  \n",
    "        is_16 = True\n"
   ]
  },
  {
   "cell_type": "markdown",
   "id": "9685c63c-71d3-485a-84f1-abf055d34c2b",
   "metadata": {},
   "source": [
    "3: Social Media word Censorship | 20 points\n",
    "Ask the user to enter a post sentence. Then, check for any word from this list sensitive words ([\"bad\", \"ugly\", \"stupid\", 'hate', 'sexy']) in the sentence. Replace each of those words with *** and print the cleaned sentence\n",
    "\n",
    "Example\n",
    "Input:\n",
    "This is a bad idea and a stupid move.\n",
    "\n",
    "Output:\n",
    "This is a *** idea and a *** mov"
   ]
  },
  {
   "cell_type": "code",
   "execution_count": 4,
   "id": "53ccb064-00dc-4684-b1ae-7dc579aa9c39",
   "metadata": {},
   "outputs": [
    {
     "name": "stdin",
     "output_type": "stream",
     "text": [
      "enter a sentence  Badirat is a bad girl, and very ugly! even though she claims to be sexy.\n"
     ]
    },
    {
     "name": "stdout",
     "output_type": "stream",
     "text": [
      "['Badirat', 'is', 'a', 'bad', 'girl,', 'and', 'very', 'ugly!', 'even', 'though', 'she', 'claims', 'to', 'be', 'sexy.']\n",
      "Badirat is a * girl, and very * even though she claims to be *\n"
     ]
    }
   ],
   "source": [
    "sensitive_words = [\"bad\", \"ugly\", \"stupid\", \"hate\", \"sexy\"]\n",
    "post = input('enter a sentence ')\n",
    "words = post.split()\n",
    "punctuations = [\".\",\",\",\"!\",\"?\"]\n",
    "print(words)\n",
    "\n",
    "for word in words:\n",
    "    for punct in punctuations:\n",
    "        if punct in word:\n",
    "            for i in sensitive_words:\n",
    "                if i == word[:-1]:\n",
    "                    index = words.index(word)\n",
    "                    words.pop(index)\n",
    "                    word = \"*\"\n",
    "                    words.insert(index,word)\n",
    "                    \n",
    "        else:\n",
    "            for i in sensitive_words:\n",
    "                if i == word:\n",
    "                    index = words.index(word)\n",
    "                    words.pop(index)\n",
    "                    word = \"*\"\n",
    "                    words.insert(index,word)\n",
    "                    \n",
    "                    \n",
    "                    \n",
    "new_sentence =\" \".join(words)\n",
    "print(new_sentence)"
   ]
  },
  {
   "cell_type": "code",
   "execution_count": null,
   "id": "9c1714d4-79be-48e5-a7c7-77d5ab8179e0",
   "metadata": {},
   "outputs": [],
   "source": []
  }
 ],
 "metadata": {
  "kernelspec": {
   "display_name": "Python 3 (ipykernel)",
   "language": "python",
   "name": "python3"
  },
  "language_info": {
   "codemirror_mode": {
    "name": "ipython",
    "version": 3
   },
   "file_extension": ".py",
   "mimetype": "text/x-python",
   "name": "python",
   "nbconvert_exporter": "python",
   "pygments_lexer": "ipython3",
   "version": "3.12.7"
  }
 },
 "nbformat": 4,
 "nbformat_minor": 5
}
