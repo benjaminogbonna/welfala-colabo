{
 "cells": [
  {
   "cell_type": "code",
   "execution_count": 2,
   "id": "b44cf862-404d-4662-8b28-96bbe29e9d8b",
   "metadata": {},
   "outputs": [
    {
     "name": "stdout",
     "output_type": "stream",
     "text": [
      "9\n"
     ]
    }
   ],
   "source": [
    "def add(a, b):\n",
    "    print(a+b)\n",
    "add(4,5)"
   ]
  },
  {
   "cell_type": "code",
   "execution_count": 3,
   "id": "bfcf907c-fa52-4766-b091-a1aa7ba9b1cf",
   "metadata": {},
   "outputs": [
    {
     "name": "stdout",
     "output_type": "stream",
     "text": [
      "96\n"
     ]
    }
   ],
   "source": [
    "def multiplication(x,y):\n",
    "    print(x*y)\n",
    "multiplication(12,8)"
   ]
  },
  {
   "cell_type": "code",
   "execution_count": null,
   "id": "1aa6bfa6-8cdf-4481-9ec1-4f34c6beaffc",
   "metadata": {},
   "outputs": [],
   "source": [
    "def divide(m,n):\n",
    "    print()"
   ]
  },
  {
   "cell_type": "code",
   "execution_count": null,
   "id": "9a2e2c9b-4f8f-4787-907e-dc6a346e188c",
   "metadata": {},
   "outputs": [],
   "source": []
  },
  {
   "cell_type": "code",
   "execution_count": null,
   "id": "1bd7fb8c-b5a0-48f6-a0df-41a7173001f2",
   "metadata": {},
   "outputs": [],
   "source": []
  },
  {
   "cell_type": "code",
   "execution_count": null,
   "id": "302defd5-8e9b-4aed-b0cd-d5ccbab0286a",
   "metadata": {},
   "outputs": [],
   "source": []
  }
 ],
 "metadata": {
  "kernelspec": {
   "display_name": "Python 3 (ipykernel)",
   "language": "python",
   "name": "python3"
  },
  "language_info": {
   "codemirror_mode": {
    "name": "ipython",
    "version": 3
   },
   "file_extension": ".py",
   "mimetype": "text/x-python",
   "name": "python",
   "nbconvert_exporter": "python",
   "pygments_lexer": "ipython3",
   "version": "3.12.7"
  }
 },
 "nbformat": 4,
 "nbformat_minor": 5
}
