{
 "cells": [
  {
   "cell_type": "code",
   "execution_count": 2,
   "id": "543ca57d-58c7-4ff1-8d41-1ed544f3f4b8",
   "metadata": {},
   "outputs": [],
   "source": [
    "import numpy as np\n",
    "import time\n",
    "# Using NumPy\n",
    "start_time = time.time()\n",
    "a = np.arange(1000000)\n",
    "b = a * 2\n",
    "end_time = time.time()\n",
    "numpy_time = end_time - start_time"
   ]
  },
  {
   "cell_type": "code",
   "execution_count": null,
   "id": "daf17ff8-f04c-4eff-b773-a0f325001a5f",
   "metadata": {},
   "outputs": [],
   "source": []
  }
 ],
 "metadata": {
  "kernelspec": {
   "display_name": "Python 3 (ipykernel)",
   "language": "python",
   "name": "python3"
  },
  "language_info": {
   "codemirror_mode": {
    "name": "ipython",
    "version": 3
   },
   "file_extension": ".py",
   "mimetype": "text/x-python",
   "name": "python",
   "nbconvert_exporter": "python",
   "pygments_lexer": "ipython3",
   "version": "3.11.7"
  }
 },
 "nbformat": 4,
 "nbformat_minor": 5
}
